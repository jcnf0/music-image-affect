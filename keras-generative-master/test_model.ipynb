{
 "cells": [
  {
   "cell_type": "code",
   "execution_count": 42,
   "metadata": {},
   "outputs": [],
   "source": [
    "import os\n",
    "import sys\n",
    "import math\n",
    "import argparse\n",
    "\n",
    "os.environ['TF_CPP_MIN_LOG_LEVEL'] = '3'\n",
    "import numpy as np\n",
    "import matplotlib\n",
    "matplotlib.use('Agg')\n",
    "\n",
    "from models import CVAE, CVAEGAN, CALI, TripleGAN\n",
    "from datasets import mnist, svhn, artemis\n",
    "from datasets.datasets import load_data "
   ]
  },
  {
   "cell_type": "code",
   "execution_count": 43,
   "metadata": {},
   "outputs": [
    {
     "name": "stdout",
     "output_type": "stream",
     "text": [
      "(128, 128, 3)\n",
      "2\n",
      "Model: \"model_23\"\n",
      "__________________________________________________________________________________________________\n",
      " Layer (type)                   Output Shape         Param #     Connected to                     \n",
      "==================================================================================================\n",
      " input_47 (InputLayer)          [(None, 128, 128, 3  0           []                               \n",
      "                                )]                                                                \n",
      "                                                                                                  \n",
      " input_48 (InputLayer)          [(None, 2)]          0           []                               \n",
      "                                                                                                  \n",
      " model_21 (Functional)          [(None, 100),        17374152    ['input_47[0][0]',               \n",
      "                                 (None, 100)]                     'input_48[0][0]']               \n",
      "                                                                                                  \n",
      " sample_normal_7 (SampleNormal)  (None, 100)         0           ['model_21[0][0]',               \n",
      "                                                                  'model_21[0][1]']               \n",
      "                                                                                                  \n",
      " model_22 (Functional)          (None, 128, 128, 3)  2733251     ['sample_normal_7[0][0]',        \n",
      "                                                                  'input_48[0][0]']               \n",
      "                                                                                                  \n",
      " vae_loss_layer_7 (VAELossLayer  (None, 128, 128, 3)  0          ['input_47[0][0]',               \n",
      " )                                                                'model_22[0][0]',               \n",
      "                                                                  'model_21[0][0]',               \n",
      "                                                                  'model_21[0][1]']               \n",
      "                                                                                                  \n",
      "==================================================================================================\n",
      "Total params: 20,107,403\n",
      "Trainable params: 20,072,715\n",
      "Non-trainable params: 34,688\n",
      "__________________________________________________________________________________________________\n"
     ]
    }
   ],
   "source": [
    "model = CVAE(\n",
    "            input_shape=(128,128,3),\n",
    "            num_attrs=2,\n",
    "            z_dims=100,\n",
    "        )\n",
    "model.load_model('./')\n",
    "model.attr_names =['valence','arousal']"
   ]
  },
  {
   "cell_type": "code",
   "execution_count": 47,
   "metadata": {},
   "outputs": [
    {
     "name": "stdout",
     "output_type": "stream",
     "text": [
      "2/2 [==============================] - 0s 8ms/step\n"
     ]
    }
   ],
   "source": [
    "samples = np.random.normal(size=(30, 100)).astype(np.float32)\n",
    "\n",
    "model.save_images(samples,'test_predict.png')"
   ]
  },
  {
   "cell_type": "code",
   "execution_count": null,
   "metadata": {},
   "outputs": [],
   "source": []
  },
  {
   "cell_type": "code",
   "execution_count": null,
   "metadata": {},
   "outputs": [],
   "source": []
  }
 ],
 "metadata": {
  "celltoolbar": "Aucun(e)",
  "kernelspec": {
   "display_name": "music-image-par (user)",
   "language": "python",
   "name": "music-image-par"
  },
  "language_info": {
   "codemirror_mode": {
    "name": "ipython",
    "version": 3
   },
   "file_extension": ".py",
   "mimetype": "text/x-python",
   "name": "python",
   "nbconvert_exporter": "python",
   "pygments_lexer": "ipython3",
   "version": "3.8.10"
  }
 },
 "nbformat": 4,
 "nbformat_minor": 4
}
